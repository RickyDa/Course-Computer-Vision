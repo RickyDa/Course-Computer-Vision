{
 "cells": [
  {
   "cell_type": "code",
   "execution_count": 0,
   "metadata": {
    "colab": {},
    "colab_type": "code",
    "id": "zzIt0pSaYoKy"
   },
   "outputs": [],
   "source": [
    "import torch\n",
    "import numpy as np  \n",
    "from matplotlib import pyplot as plt\n",
    "import torch.nn as nn\n",
    "import torch.nn.functional as F\n",
    "import torchvision\n",
    "\n",
    "%matplotlib inline"
   ]
  },
  {
   "cell_type": "markdown",
   "metadata": {
    "colab_type": "text",
    "id": "GIkSfdMr408h"
   },
   "source": [
    "# MNIST Dataset\n",
    "\n"
   ]
  },
  {
   "cell_type": "code",
   "execution_count": 13,
   "metadata": {
    "colab": {
     "base_uri": "https://localhost:8080/",
     "height": 283
    },
    "colab_type": "code",
    "executionInfo": {
     "elapsed": 1548,
     "status": "ok",
     "timestamp": 1587549385056,
     "user": {
      "displayName": "Ricky Danipog",
      "photoUrl": "https://lh3.googleusercontent.com/a-/AOh14GjdVSCcL1RoxFc5DK1ncBF_pUSkI51Xu7pKoBB6Iw=s64",
      "userId": "04642021946591219207"
     },
     "user_tz": -180
    },
    "id": "oO-d6x3Ykka6",
    "outputId": "134132b3-fa44-4aa9-ade9-7e250f779499"
   },
   "outputs": [
    {
     "data": {
      "text/plain": [
       "<matplotlib.image.AxesImage at 0x7fa50fd29cf8>"
      ]
     },
     "execution_count": 13,
     "metadata": {
      "tags": []
     },
     "output_type": "execute_result"
    },
    {
     "data": {
      "image/png": "[encoded data removed]",
      "text/plain": [
       "<Figure size 432x288 with 1 Axes>"
      ]
     },
     "metadata": {
      "needs_background": "light",
      "tags": []
     },
     "output_type": "display_data"
    }
   ],
   "source": [
    "# trainset = torchvision.datasets.MNIST(root='',train=True, download=True)\n",
    "num_classes = len(trainset.classes)\n",
    "plt.imshow(trainset.data[np.random.randint(0,len(trainset))],cmap='gray');"
   ]
  },
  {
   "cell_type": "markdown",
   "metadata": {
    "colab_type": "text",
    "id": "PNcTwfGq5jdH"
   },
   "source": [
    "---"
   ]
  },
  {
   "cell_type": "code",
   "execution_count": 12,
   "metadata": {
    "colab": {
     "base_uri": "https://localhost:8080/",
     "height": 54
    },
    "colab_type": "code",
    "executionInfo": {
     "elapsed": 1084,
     "status": "ok",
     "timestamp": 1587549349987,
     "user": {
      "displayName": "Ricky Danipog",
      "photoUrl": "https://lh3.googleusercontent.com/a-/AOh14GjdVSCcL1RoxFc5DK1ncBF_pUSkI51Xu7pKoBB6Iw=s64",
      "userId": "04642021946591219207"
     },
     "user_tz": -180
    },
    "id": "CTTNgF3MgS64",
    "outputId": "0bf42caa-fc4d-4e87-c7c3-62100ba485aa"
   },
   "outputs": [
    {
     "data": {
      "text/plain": [
       "tensor([[0.5290, 0.5254, 0.5343, 0.4756, 0.4756, 0.4715, 0.5086, 0.4613, 0.4986,\n",
       "         0.5098]], grad_fn=<SigmoidBackward>)"
      ]
     },
     "execution_count": 12,
     "metadata": {
      "tags": []
     },
     "output_type": "execute_result"
    }
   ],
   "source": [
    "SHAPE = trainset.data[0].shape\n",
    "\n",
    "\n",
    "class mnistModel(nn.Module):\n",
    "    def __init__(self):\n",
    "        super(mnistModel, self).__init__()\n",
    "        \n",
    "        self.fc1 = nn.Linear(in_features=SHAPE[0]*SHAPE[1],out_features=128)\n",
    "        self.fc2 = nn.Linear(in_features=128,out_features=64)\n",
    "        self.fc3 = nn.Linear(in_features=64,out_features=num_classes)\n",
    "\n",
    "\n",
    "    def forward(self, x):\n",
    "        x = x.view(x.shape[0], -1)\n",
    "        x = self.fc1(x)\n",
    "        x = F.relu(x)\n",
    "        x = self.fc2(x)\n",
    "        x = F.relu(x)\n",
    "        x = self.fc3(x)\n",
    "        y = torch.sigmoid(x)\n",
    "        return y\n",
    "\n",
    "model = mnistModel()\n",
    "sample = trainset.data[np.random.randint(0,len(trainset))]/255.\n",
    "model(sample[np.newaxis, :])"
   ]
  },
  {
   "cell_type": "code",
   "execution_count": 0,
   "metadata": {
    "colab": {
     "base_uri": "https://localhost:8080/",
     "height": 54
    },
    "colab_type": "code",
    "executionInfo": {
     "elapsed": 747,
     "status": "ok",
     "timestamp": 1587483578944,
     "user": {
      "displayName": "Ricky Danipog",
      "photoUrl": "https://lh3.googleusercontent.com/a-/AOh14GjdVSCcL1RoxFc5DK1ncBF_pUSkI51Xu7pKoBB6Iw=s64",
      "userId": "04642021946591219207"
     },
     "user_tz": -180
    },
    "id": "oSzebfWxgTkK",
    "outputId": "3434f3e1-d3f1-46b9-9a1b-eac7ac564a54"
   },
   "outputs": [
    {
     "data": {
      "text/plain": [
       "tensor([[0.1035, 0.0978, 0.0978, 0.0978, 0.0978, 0.0978, 0.0978, 0.1032, 0.1028,\n",
       "         0.1039]], grad_fn=<SoftmaxBackward>)"
      ]
     },
     "execution_count": 11,
     "metadata": {
      "tags": []
     },
     "output_type": "execute_result"
    }
   ],
   "source": [
    "\n",
    "\n",
    "class LeNetModel(nn.Module):\n",
    "    # image size 28x28x1\n",
    "\n",
    "    # after conv2d1 \n",
    "    # image_size = 24x24x8\n",
    "\n",
    "    # after maxPooling1 \n",
    "    # image_size = 12x12x8\n",
    "\n",
    "    # after conv2d2 \n",
    "    # image_size = 8x8x16\n",
    "\n",
    "    # after maxPooling2 \n",
    "    # image_size = 4x4x16\n",
    "\n",
    "\n",
    "    # hyperparameters:\n",
    "    param_conv1 = {'in_channels': 1,\n",
    "            'out_channels': 8,\n",
    "            'kernel_size':(5,5)}\n",
    "    max_pooling_kize1 = 2\n",
    "\n",
    "    param_conv2 = {'in_channels': 8,\n",
    "            'out_channels': 16,\n",
    "            'kernel_size':(5,5)}\n",
    "    max_pooling_kize2 = 2\n",
    "    param_fc1 = { 'in_features' :16*4*4, 'out_features':120}\n",
    "    param_fc2 = { 'in_features' : 120, 'out_features': 84}\n",
    "    param_fc3 = { 'in_features' : 84, 'out_features': num_class}\n",
    "\n",
    "    \n",
    "    def __init__(self):\n",
    "         super(LeNetModel, self).__init__()\n",
    "         self.conv1 = nn.Conv2d(**self.param_conv1)\n",
    "         self.conv2 = nn.Conv2d(**self.param_conv2)\n",
    "\n",
    "         self.fc1 = nn.Linear(**self.param_fc1)\n",
    "         self.fc2 = nn.Linear(**self.param_fc2)\n",
    "         self.fc3 = nn.Linear(**self.param_fc3)\n",
    "\n",
    "    def forward(self,x):\n",
    "        x = self.conv1(x)\n",
    "        x = F.relu(x)\n",
    "        x = F.max_pool2d(x,self.max_pooling_kize1)\n",
    "\n",
    "        x = self.conv2(x)\n",
    "        x = F.relu(x)\n",
    "        x = F.max_pool2d(x,self.max_pooling_kize2)\n",
    "\n",
    "        x = x.view(x.shape[0], -1)\n",
    "        x = self.fc1(x)\n",
    "        x = F.relu(x)\n",
    "\n",
    "        x = self.fc2(x)\n",
    "        x = F.relu(x)\n",
    "\n",
    "        x = self.fc3(x)\n",
    "        x = F.relu(x)\n",
    "\n",
    "        y = F.softmax(x,dim=1)\n",
    "        return y\n",
    "\n",
    "model_lenet = LeNetModel()\n",
    "sample = trainset.data[np.random.randint(0,len(trainset))]/255.\n",
    "model_lenet(sample[np.newaxis, np.newaxis, :, :])     "
   ]
  },
  {
   "cell_type": "code",
   "execution_count": 0,
   "metadata": {
    "colab": {},
    "colab_type": "code",
    "id": "rFBJ0ZrrLSwP"
   },
   "outputs": [],
   "source": []
  }
 ],
 "metadata": {
  "colab": {
   "authorship_tag": "ABX9TyMcrnOjWwQMn8XFnGJFsYgL",
   "collapsed_sections": [],
   "name": "LAB5 CV.ipynb",
   "provenance": []
  },
  "kernelspec": {
   "display_name": "Python 3",
   "language": "python",
   "name": "python3"
  },
  "language_info": {
   "codemirror_mode": {
    "name": "ipython",
    "version": 3
   },
   "file_extension": ".py",
   "mimetype": "text/x-python",
   "name": "python",
   "nbconvert_exporter": "python",
   "pygments_lexer": "ipython3",
   "version": "3.7.3"
  }
 },
 "nbformat": 4,
 "nbformat_minor": 1
}
