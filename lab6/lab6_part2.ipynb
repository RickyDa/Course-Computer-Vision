{
  "nbformat": 4,
  "nbformat_minor": 0,
  "metadata": {
    "colab": {
      "name": "lab6_part2.ipynb",
      "provenance": [],
      "collapsed_sections": []
    },
    "kernelspec": {
      "name": "python3",
      "display_name": "Python 3"
    }
  },
  "cells": [
    {
      "cell_type": "code",
      "metadata": {
        "id": "H_FiGAgzTgK-",
        "colab_type": "code",
        "outputId": "9821c2e7-34f9-435a-9aad-16c684317768",
        "colab": {
          "base_uri": "https://localhost:8080/",
          "height": 50
        }
      },
      "source": [
        "!pip install -q albumentations"
      ],
      "execution_count": 0,
      "outputs": [
        {
          "output_type": "stream",
          "text": [
            "\u001b[K     |████████████████████████████████| 634kB 2.8MB/s \n",
            "\u001b[?25h  Building wheel for imgaug (setup.py) ... \u001b[?25l\u001b[?25hdone\n"
          ],
          "name": "stdout"
        }
      ]
    },
    {
      "cell_type": "code",
      "metadata": {
        "id": "D_HGzx1RTDZa",
        "colab_type": "code",
        "colab": {}
      },
      "source": [
        "import torch\n",
        "from matplotlib import pyplot as plt\n",
        "import torchvision\n",
        "from torch.utils.data import Dataset, DataLoader\n",
        "from albumentations import (Flip, Rotate,Blur,OneOf,Compose)"
      ],
      "execution_count": 0,
      "outputs": []
    },
    {
      "cell_type": "code",
      "metadata": {
        "id": "MGE9mYv0TxRw",
        "colab_type": "code",
        "colab": {}
      },
      "source": [
        "\n",
        "train_set = torchvision.datasets.MNIST(root='',download=True)\n",
        "num_classes = len(train_set.classes)"
      ],
      "execution_count": 0,
      "outputs": []
    },
    {
      "cell_type": "code",
      "metadata": {
        "id": "NHO9GrBnUD_P",
        "colab_type": "code",
        "colab": {}
      },
      "source": [
        "class MNISTDataset(Dataset):\n",
        "\n",
        "    def __init__(self,X_train,y_train,transforms=None,preprocessing=None):\n",
        "        super(MNISTDataset,self).__init__()\n",
        "        self.X_train = X_train\n",
        "        self.y_train = y_train\n",
        "        self.transforms = transforms\n",
        "        self.preprocessing = preprocessing\n",
        "\n",
        "    def __getitem__(self,idx):\n",
        "        x = self.X_train[idx]\n",
        "        y = self.y_train[idx]\n",
        "        if self.transforms != None:\n",
        "            x = self.transforms(image=x.numpy())\n",
        "            x = x['image']\n",
        "\n",
        "        return x, y\n",
        "\n",
        "    def __len__(self):\n",
        "        return len(self.X_train)"
      ],
      "execution_count": 0,
      "outputs": []
    },
    {
      "cell_type": "code",
      "metadata": {
        "id": "wWXb6r_FdK2r",
        "colab_type": "code",
        "colab": {}
      },
      "source": [
        "aug = Compose([Flip(), Rotate(limit=40), Blur(blur_limit=9)])"
      ],
      "execution_count": 0,
      "outputs": []
    },
    {
      "cell_type": "code",
      "metadata": {
        "id": "cRrIaX_9U60n",
        "colab_type": "code",
        "colab": {}
      },
      "source": [
        "batch_size = 10\n",
        "mnist_dataset = MNISTDataset(train_set.data,train_set.targets,transforms=aug)\n",
        "mnist_dataloader = DataLoader(mnist_dataset,batch_size=batch_size,shuffle=True,num_workers=4)"
      ],
      "execution_count": 0,
      "outputs": []
    },
    {
      "cell_type": "code",
      "metadata": {
        "id": "cn1L_n9GdjPM",
        "colab_type": "code",
        "colab": {}
      },
      "source": [
        "batch = iter(mnist_dataloader)\n",
        "images, labels = next(batch)"
      ],
      "execution_count": 0,
      "outputs": []
    },
    {
      "cell_type": "code",
      "metadata": {
        "id": "Lzd3rcahdwvt",
        "colab_type": "code",
        "outputId": "98a7f23f-47c1-4aab-9aa6-2fa22de94824",
        "colab": {
          "base_uri": "https://localhost:8080/",
          "height": 281
        }
      },
      "source": [
        "plt.imshow(images[7].numpy(),cmap='gray')\n",
        "plt.title(labels[7]);"
      ],
      "execution_count": 0,
      "outputs": [
        {
          "output_type": "display_data",
          "data": {
            "image/png": "[encoded data removed]",
            "text/plain": [
              "<Figure size 432x288 with 1 Axes>"
            ]
          },
          "metadata": {
            "tags": [],
            "needs_background": "light"
          }
        }
      ]
    },
    {
      "cell_type": "code",
      "metadata": {
        "id": "ufnrjLhJd4yg",
        "colab_type": "code",
        "colab": {}
      },
      "source": [
        ""
      ],
      "execution_count": 0,
      "outputs": []
    }
  ]
}