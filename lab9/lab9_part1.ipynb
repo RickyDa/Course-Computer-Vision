{
 "cells": [
  {
   "cell_type": "markdown",
   "metadata": {
    "colab_type": "text",
    "id": "OpfGxnzMfpGD"
   },
   "source": [
    "# U-Net \n",
    "Is a convolutional neural network originally developed for segmenting biomedical images. When visualized its architecture looks like the letter U and hence the name U-Net. Its architecture is made up of two parts, the left part — the contracting path and the right part — the expansive path. The purpose of the contracting path is to capture context while the role of the expansive path is to aid in precise localization.The contracting path is made up of two 3x3 convolution layer. The convolutions are followed by a ReLU and a 2x2 max-pooling computation layers for downsampling.\n",
    "\n",
    "---\n",
    "\n",
    "# FPN \n",
    "known also as U-Net. FPN uses a pyramidal hierarchy of deep convolutional networks to construct feature pyramids with marginal extra cost. It consisted of bottom-up and top-down pathways. The bottom- up pathway is the feedforward computation of the backbone ConvNet. It is defined that one pyramid level is for each stage. The output of the last layer of each stage will be used as the reference set of feature maps for enriching the top-down pathway by lateral connection. Top-Down Pathway -The higher resolution features is upsampled spatially coarser, but semantically stronger, feature maps from higher pyramid levels. More specifically, the spatial resolution is upsampled by a factor of 2 using the nearest neighbor for simplicity. Despite the effectiveness of ResNet and Faster R-CNN, FPN shows significant improvements over several strong baselines and competition winners.\n",
    "\n",
    "---\n",
    "\n",
    "#PAN \n",
    "A Pyramid Attention Network(PAN) its a new graph convolution framework that involves every path linking the message sender and receiver with learnable weights depending on the path length, which corresponds to the maximal entropy random walk. PAN generalizes the graph Laplacian to a new transition matrix we call (MET-maximal entropy transition)\n",
    "\n",
    "---\n",
    "\n",
    "# DeepLabV3 \n",
    "is the introduction of atrous convolutions, or dilated convolutions, to extract more dense features where information is better preserved given objects of varying scale. Atruos convolutions have an additional parameter r, called the atrous rate, which corresponds to the stride the input signal is sampled. The purpose of this methodology is to have the flexibility to modify the filter’s field-of-view and to modify how dense the features are computed, all by changing r instead of learning extra parameters.\n",
    "\n",
    "---"
   ]
  },
  {
   "cell_type": "code",
   "execution_count": 0,
   "metadata": {
    "colab": {
     "base_uri": "https://localhost:8080/",
     "height": 34
    },
    "colab_type": "code",
    "id": "lTtN0M_dgsTX",
    "outputId": "a6aab160-ecc2-4dce-8b5b-56968e13e7f9"
   },
   "outputs": [
    {
     "name": "stdout",
     "output_type": "stream",
     "text": [
      "  Building wheel for segmentation-models-pytorch (setup.py) ... \u001b[?25l\u001b[?25hdone\n"
     ]
    }
   ],
   "source": [
    "!pip install -q git+https://github.com/qubvel/segmentation_models.pytorch"
   ]
  },
  {
   "cell_type": "code",
   "execution_count": 0,
   "metadata": {
    "colab": {},
    "colab_type": "code",
    "id": "eEF1W6vEgw50"
   },
   "outputs": [],
   "source": [
    "import segmentation_models_pytorch as smp"
   ]
  },
  {
   "cell_type": "code",
   "execution_count": 0,
   "metadata": {
    "colab": {},
    "colab_type": "code",
    "id": "AX5yO_bOhkyp"
   },
   "outputs": [],
   "source": [
    "unet = smp.Unet('resnet34', encoder_weights='imagenet')\n",
    "fpn = smp.FPN('resnet34', encoder_weights='imagenet')\n",
    "pan = smp.PAN('resnet34', encoder_weights='imagenet')\n",
    "dlv3 = smp.DeepLabV3('resnet34', encoder_weights='imagenet')"
   ]
  },
  {
   "cell_type": "code",
   "execution_count": 0,
   "metadata": {
    "colab": {},
    "colab_type": "code",
    "id": "TVJe3vlCikP2"
   },
   "outputs": [],
   "source": []
  }
 ],
 "metadata": {
  "colab": {
   "collapsed_sections": [],
   "name": "lab9-part1.ipynb",
   "provenance": []
  },
  "kernelspec": {
   "display_name": "Python 3",
   "language": "python",
   "name": "python3"
  },
  "language_info": {
   "codemirror_mode": {
    "name": "ipython",
    "version": 3
   },
   "file_extension": ".py",
   "mimetype": "text/x-python",
   "name": "python",
   "nbconvert_exporter": "python",
   "pygments_lexer": "ipython3",
   "version": "3.7.3"
  }
 },
 "nbformat": 4,
 "nbformat_minor": 1
}
